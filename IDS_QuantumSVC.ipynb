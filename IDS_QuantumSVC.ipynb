{
 "cells": [
  {
   "cell_type": "code",
   "execution_count": 1,
   "metadata": {},
   "outputs": [],
   "source": [
    "from qiskit import IBMQ\n",
    "IBMQ.save_account('paste id here',overwrite=True)"
   ]
  },
  {
   "cell_type": "code",
   "execution_count": 2,
   "metadata": {},
   "outputs": [],
   "source": [
    "%matplotlib inline\n",
    "# Importing standard Qiskit libraries and configuring account\n",
    "from qiskit import QuantumCircuit, execute, Aer, IBMQ\n",
    "from qiskit.compiler import transpile, assemble\n",
    "from qiskit.tools.jupyter import *\n",
    "from qiskit.visualization import *\n",
    "# Loading your IBM Q account(s)\n",
    "provider = IBMQ.load_account()"
   ]
  },
  {
   "cell_type": "code",
   "execution_count": 3,
   "metadata": {},
   "outputs": [],
   "source": [
    "from qiskit.utils import algorithm_globals\n",
    "\n",
    "algorithm_globals.random_seed = 12345"
   ]
  },
  {
   "cell_type": "markdown",
   "metadata": {},
   "source": [
    "# With PCA"
   ]
  },
  {
   "cell_type": "code",
   "execution_count": 4,
   "metadata": {},
   "outputs": [],
   "source": [
    "import numpy as np\n",
    "import matplotlib.pyplot as plt\n",
    "import warnings\n",
    "warnings.filterwarnings('ignore')\n",
    "\n",
    "# import Qiskit\n",
    "from qiskit import *\n",
    "from qiskit import Aer, execute"
   ]
  },
  {
   "cell_type": "code",
   "execution_count": 5,
   "metadata": {},
   "outputs": [],
   "source": [
    "from sklearn.model_selection import train_test_split\n",
    "from sklearn.preprocessing import StandardScaler, MinMaxScaler\n",
    "from sklearn.decomposition import PCA\n",
    "\n",
    "def ind1(training_size, test_size, n, plot_data=False):\n",
    "    \"\"\" returns grid dataset \"\"\"\n",
    "    class_labels = [r'0', r'1']\n",
    "\n",
    "    #data, target = datasets.load_wine(return_X_y=True)\n",
    "    data_smart_grid = pd.read_csv(r'D:\\imp Ph.d docs\\Research\\dataset\\intrusion.csv') \n",
    "    data_smart_gird_temp = data_smart_grid.drop(\"label\",axis = 1)\n",
    "    data_smart_gird_array = data_smart_gird_temp.to_numpy()   # data\n",
    "    data=data_smart_gird_array\n",
    "\n",
    "    #target run only once\n",
    "    #stabf_dict = {'unstable': 0,'stable': 1} \n",
    "    #data_smart_grid.stabf = [stabf_dict[item] for item in data_smart_grid.stabf] \n",
    "    #print(data_smart_grid)\n",
    "    data_smart_grid_temp_label = data_smart_grid[\"label\"]\n",
    "    data_smart_grid_label = data_smart_grid_temp_label.to_numpy()   # target\n",
    "    #print(\"data_smart_grid_temp_label\",data_smart_grid_label) \n",
    "    target= data_smart_grid_label\n",
    "\n",
    "    sample_train, sample_test, label_train, label_test = \\\n",
    "        train_test_split(data, target, test_size=test_size, random_state=14)\n",
    "\n",
    "    # Now we standardize for gaussian around 0 with unit variance\n",
    "    std_scale = StandardScaler().fit(sample_train)\n",
    "    sample_train = std_scale.transform(sample_train)\n",
    "    sample_test = std_scale.transform(sample_test)\n",
    "    print(\"Size of traaining\",len(sample_train))\n",
    "    print(\"Size of test\",len(sample_test))\n",
    "    # Now reduce number of features to number of qubits\n",
    "    pca = PCA(n_components=n).fit(sample_train)\n",
    "    sample_train = pca.transform(sample_train)\n",
    "    sample_test = pca.transform(sample_test)\n",
    "    \n",
    "\n",
    "    training_input = {key: (sample_train[label_train == k, :])[:training_size]\n",
    "                      for k, key in enumerate(class_labels)}\n",
    "    test_input = {key: (sample_test[label_test == k, :])[:test_size]\n",
    "                  for k, key in enumerate(class_labels)}\n",
    "\n",
    "    if plot_data:\n",
    "        try:\n",
    "            import matplotlib.pyplot as plt\n",
    "        except ImportError:\n",
    "            raise NameError('Matplotlib not installed. Please install it before plotting')\n",
    "        for k in range(0, 2):\n",
    "            plt.scatter(sample_train[label_train == k, 0][:training_size],\n",
    "                        sample_train[label_train == k, 1][:training_size])\n",
    "\n",
    "        plt.title(\"PCA dim. reduced grid dataset\")\n",
    "        plt.show()\n",
    "\n",
    "    return sample_train, training_input, test_input, class_labels,sample_train, sample_test, label_train, label_test"
   ]
  },
  {
   "cell_type": "code",
   "execution_count": 6,
   "metadata": {
    "scrolled": true
   },
   "outputs": [
    {
     "name": "stdout",
     "output_type": "stream",
     "text": [
      "Size of traaining 700\n",
      "Size of test 300\n"
     ]
    },
    {
     "data": {
      "image/png": "[encoded data removed]",
      "text/plain": [
       "<Figure size 432x288 with 1 Axes>"
      ]
     },
     "metadata": {
      "needs_background": "light"
     },
     "output_type": "display_data"
    }
   ],
   "source": [
    "from sklearn.model_selection import train_test_split\n",
    "from sklearn.preprocessing import StandardScaler, MinMaxScaler\n",
    "from sklearn.decomposition import PCA\n",
    "import numpy as np\n",
    "import pandas as pd\n",
    "\n",
    "n = 4  # dimension of each data point\n",
    "sample_Total, training_input, test_input, class_labels,sample_train, sample_test, label_train, label_test = ind1(training_size=700,test_size=300, n=n, plot_data=True)\n",
    "temp = [test_input[k] for k in test_input]\n",
    "total_array = np.concatenate(temp)"
   ]
  },
  {
   "cell_type": "markdown",
   "metadata": {},
   "source": [
    "# without optimizer"
   ]
  },
  {
   "cell_type": "code",
   "execution_count": 7,
   "metadata": {},
   "outputs": [],
   "source": [
    "from qiskit import BasicAer\n",
    "from qiskit.utils import QuantumInstance\n",
    "\n",
    "sv_qi = QuantumInstance(\n",
    "    BasicAer.get_backend(\"statevector_simulator\"),\n",
    "    seed_simulator=algorithm_globals.random_seed,\n",
    "    seed_transpiler=algorithm_globals.random_seed,\n",
    ")"
   ]
  },
  {
   "cell_type": "code",
   "execution_count": 8,
   "metadata": {},
   "outputs": [
    {
     "data": {
      "image/png": "[encoded data removed]",
      "text/plain": [
       "<Figure size 507.997x204.68 with 1 Axes>"
      ]
     },
     "execution_count": 8,
     "metadata": {},
     "output_type": "execute_result"
    }
   ],
   "source": [
    "from qiskit_machine_learning.kernels import QuantumKernel\n",
    "from qiskit.circuit.library import ZZFeatureMap\n",
    "from qiskit.circuit.library import PauliFeatureMap\n",
    "from qiskit.circuit import ParameterVector\n",
    "\n",
    "user_params = ParameterVector(\"θ\",length=3)\n",
    "fm0 = QuantumCircuit(3)\n",
    "fm0.ry(user_params[0], 0)\n",
    "fm0.ry(user_params[0], 1)\n",
    "fm0.ry(user_params[0], 2)\n",
    "#fm0.ry(user_params[0], 3)\n",
    "#fm0.ry(user_params[0], 4)\n",
    "\n",
    "\n",
    "fm1 = PauliFeatureMap(feature_dimension=3, reps=1, paulis=['Z','Y','Z'])\n",
    "\n",
    "\n",
    "feature_map = fm0.compose(fm1)\n",
    "#feature_map = ZZFeatureMap(2)\n",
    "previous_kernel = QuantumKernel(feature_map=feature_map, quantum_instance=sv_qi)\n",
    "feature_map.decompose().draw('mpl')"
   ]
  },
  {
   "cell_type": "code",
   "execution_count": 9,
   "metadata": {},
   "outputs": [
    {
     "name": "stdout",
     "output_type": "stream",
     "text": [
      "Train Accuracy=  0.9671428571428572\n",
      "Training time: 4 milli seconds\n"
     ]
    }
   ],
   "source": [
    "from qiskit_machine_learning.algorithms import QSVC\n",
    "import time\n",
    "\n",
    "start = time.time()\n",
    "qsvc = QSVC(quantum_kernel=previous_kernel)\n",
    "qsvc.fit(sample_train, label_train)\n",
    "elapsed = time.time() - start\n",
    "print(\"Train Accuracy= \",qsvc.score(sample_train, label_train))\n",
    "\n",
    "print(f\"Training time: {round(elapsed)} milli seconds\")"
   ]
  },
  {
   "cell_type": "code",
   "execution_count": 10,
   "metadata": {},
   "outputs": [
    {
     "name": "stdout",
     "output_type": "stream",
     "text": [
      "accuracy test: 0.9537869062901155\n"
     ]
    }
   ],
   "source": [
    "from sklearn.metrics import precision_score,  recall_score, f1_score, accuracy_score\n",
    "from sklearn import metrics\n",
    "labels_test = qsvc.predict(sample_test)\n",
    "\n",
    "# Evalaute the test accuracy\n",
    "accuracy_test = metrics.balanced_accuracy_score(y_true=label_test, y_pred=labels_test)\n",
    "print(f\"accuracy test: {accuracy_test}\")"
   ]
  },
  {
   "cell_type": "code",
   "execution_count": 11,
   "metadata": {},
   "outputs": [
    {
     "name": "stdout",
     "output_type": "stream",
     "text": [
      "Precision =  0.9537869062901155\n",
      "Recall Score= 0.9537869062901155\n",
      "Accuracy= 0.9537869062901155\n",
      "F1 Score= 0.9537869062901155\n"
     ]
    }
   ],
   "source": [
    "from sklearn.metrics import precision_score,  recall_score, f1_score, accuracy_score\n",
    "print(\"Precision = \", metrics.precision_score(label_test, labels_test, average='macro', zero_division=1))\n",
    "print(\"Recall Score=\", metrics.recall_score(label_test, labels_test, average='macro'))\n",
    "print(\"Accuracy=\", metrics.balanced_accuracy_score(label_test, labels_test))\n",
    "print(\"F1 Score=\", metrics.f1_score(label_test, labels_test, average='macro'))"
   ]
  },
  {
   "cell_type": "code",
   "execution_count": null,
   "metadata": {},
   "outputs": [],
   "source": []
  },
  {
   "cell_type": "code",
   "execution_count": 12,
   "metadata": {
    "scrolled": false
   },
   "outputs": [
    {
     "name": "stdout",
     "output_type": "stream",
     "text": [
      "Size of traaining 700\n",
      "Size of test 300\n"
     ]
    },
    {
     "data": {
      "image/png": "[encoded data removed]",
      "text/plain": [
       "<Figure size 432x288 with 1 Axes>"
      ]
     },
     "metadata": {
      "needs_background": "light"
     },
     "output_type": "display_data"
    }
   ],
   "source": [
    "n = 3  # dimension of each data point\n",
    "sample_Total, training_input, test_input, class_labels,sample_train, sample_test, label_train, label_test = ind1(training_size=700,test_size=300, n=n, plot_data=True)\n",
    "#temp = [test_input[k] for k in test_input]\n",
    "#total_array = np.concatenate(temp)\n",
    "\n",
    "\n",
    "class QKTCallback:\n",
    "    \"\"\"Callback wrapper class.\"\"\"\n",
    "\n",
    "    def __init__(self) -> None:\n",
    "        self._data = [[] for i in range(5)]\n",
    "\n",
    "    def callback(self, x0, x1=None, x2=None, x3=None, x4=None):\n",
    "        \"\"\"\n",
    "        Args:\n",
    "            x0: number of function evaluations\n",
    "            x1: the parameters\n",
    "            x2: the function value\n",
    "            x3: the stepsize\n",
    "            x4: whether the step was accepted\n",
    "        \"\"\"\n",
    "        self._data[0].append(x0)\n",
    "        self._data[1].append(x1)\n",
    "        self._data[2].append(x2)\n",
    "        self._data[3].append(x3)\n",
    "        self._data[4].append(x4)\n",
    "\n",
    "    def get_callback_data(self):\n",
    "        return self._data\n",
    "\n",
    "    def clear_callback_data(self):\n",
    "        self._data = [[] for i in range(5)]"
   ]
  },
  {
   "cell_type": "code",
   "execution_count": 13,
   "metadata": {},
   "outputs": [
    {
     "name": "stdout",
     "output_type": "stream",
     "text": [
      "     ┌──────────┐┌──────────────────────────────────┐\n",
      "q_0: ┤ Ry(θ[0]) ├┤0                                 ├\n",
      "     ├──────────┤│                                  │\n",
      "q_1: ┤ Ry(θ[0]) ├┤1 PauliFeatureMap(x[0],x[1],x[2]) ├\n",
      "     ├──────────┤│                                  │\n",
      "q_2: ┤ Ry(θ[0]) ├┤2                                 ├\n",
      "     └──────────┘└──────────────────────────────────┘\n",
      "Trainable parameters: θ, ['θ[0]']\n"
     ]
    },
    {
     "data": {
      "image/png": "[encoded data removed]",
      "text/plain": [
       "<Figure size 507.997x204.68 with 1 Axes>"
      ]
     },
     "execution_count": 13,
     "metadata": {},
     "output_type": "execute_result"
    }
   ],
   "source": [
    "user_params = ParameterVector(\"θ\", 1)\n",
    "fm0 = QuantumCircuit(3)\n",
    "fm0.ry(user_params[0], 0)\n",
    "fm0.ry(user_params[0], 1)\n",
    "fm0.ry(user_params[0], 2)\n",
    "\n",
    "\n",
    "# Use ZZFeatureMap to represent input data\n",
    "#fm1 = ZZFeatureMap(2)\n",
    "fm1=PauliFeatureMap(feature_dimension=3, reps=1, paulis=['Z','Y','Z'])\n",
    "# Create the feature map, composed of our two circuits\n",
    "fm = fm0.compose(fm1)\n",
    "\n",
    "print(circuit_drawer(fm))\n",
    "print(f\"Trainable parameters: {user_params}\")\n",
    "fm.decompose().draw(output='mpl')"
   ]
  },
  {
   "cell_type": "code",
   "execution_count": 14,
   "metadata": {},
   "outputs": [],
   "source": [
    "from qiskit.algorithms.optimizers import SPSA\n",
    "from qiskit.algorithms.optimizers import COBYLA,ADAM\n",
    "from qiskit_machine_learning.kernels.algorithms import QuantumKernelTrainer\n",
    "from qiskit.providers.aer import AerSimulator\n",
    "backend= BasicAer.get_backend(\"statevector_simulator\")\n",
    "\n",
    "\n",
    "# Instantiate quantum kernel\n",
    "quant_kernel1 = QuantumKernel(fm, user_parameters=user_params, quantum_instance=backend)\n",
    "\n",
    "# Set up the optimizer\n",
    "cb_qkt = QKTCallback()\n",
    "cobyla=COBYLA(maxiter=100)\n",
    "#spsa_opt1 = SPSA(maxiter=10, callback=cb_qkt.callback, learning_rate=0.05, perturbation=0.05)\n",
    "\n",
    "# Instantiate a quantum kernel trainer.\n",
    "qkt1 = QuantumKernelTrainer(\n",
    "    quantum_kernel=quant_kernel1, loss=\"svc_loss\", optimizer=cobyla, initial_point=[np.pi / 2]\n",
    ")"
   ]
  },
  {
   "cell_type": "code",
   "execution_count": 15,
   "metadata": {},
   "outputs": [
    {
     "name": "stdout",
     "output_type": "stream",
     "text": [
      "{   'optimal_circuit': None,\n",
      "    'optimal_parameters': {ParameterVectorElement(θ[0]): 3.5926689830448963},\n",
      "    'optimal_point': array([3.59266898]),\n",
      "    'optimal_value': 94.0687687838781,\n",
      "    'optimizer_evals': 22,\n",
      "    'optimizer_result': None,\n",
      "    'optimizer_time': None,\n",
      "    'quantum_kernel': <qiskit_machine_learning.kernels.quantum_kernel.QuantumKernel object at 0x00000293454DF9A0>}\n",
      "Training time: 87 milli seconds\n"
     ]
    }
   ],
   "source": [
    "import time\n",
    "import matplotlib.pyplot as plt\n",
    "\n",
    "#objective_func_vals = []\n",
    "#plt.rcParams[\"figure.figsize\"] = (12, 6)\n",
    "start = time.time()\n",
    "# fit classifier to data\n",
    "#vqc.fit(sample_train, y_one_hot)\n",
    "qka_results=qkt1.fit(sample_train, label_train)\n",
    "optimized_kernel1 = qka_results.quantum_kernel\n",
    "print(qka_results)\n",
    "\n",
    "elapsed = time.time() - start\n",
    "# return to default figsize\n",
    "plt.rcParams[\"figure.figsize\"] = (6, 4)\n",
    "\n",
    "# score classifier\n",
    "#vqc.score(sample_train, y_one_hot)\n",
    "print(f\"Training time: {round(elapsed)} milli seconds\")"
   ]
  },
  {
   "cell_type": "code",
   "execution_count": 16,
   "metadata": {
    "scrolled": true
   },
   "outputs": [
    {
     "data": {
      "text/plain": [
       "0.96"
      ]
     },
     "execution_count": 16,
     "metadata": {},
     "output_type": "execute_result"
    }
   ],
   "source": [
    "from qiskit_machine_learning.algorithms import QSVC\n",
    "from sklearn import metrics\n",
    "# Use QSVC for classification\n",
    "qsvc1 = QSVC(quantum_kernel=optimized_kernel1)\n",
    "\n",
    "# Fit the QSVC\n",
    "qsvc1.fit(sample_train, label_train)\n",
    "qsvc1.score(sample_train, label_train)\n"
   ]
  },
  {
   "cell_type": "code",
   "execution_count": 17,
   "metadata": {},
   "outputs": [
    {
     "name": "stdout",
     "output_type": "stream",
     "text": [
      "accuracy test: 0.9374230105937422\n"
     ]
    }
   ],
   "source": [
    "labels_train = qsvc1.predict(sample_train)\n",
    "accuracy_train = metrics.balanced_accuracy_score(y_true=label_train, y_pred=labels_train)\n",
    "print(f\"accuracy test: {accuracy_train}\")"
   ]
  },
  {
   "cell_type": "code",
   "execution_count": 18,
   "metadata": {},
   "outputs": [
    {
     "name": "stdout",
     "output_type": "stream",
     "text": [
      "accuracy test: 0.9387676508344031\n"
     ]
    }
   ],
   "source": [
    "from sklearn.metrics import precision_score,  recall_score, f1_score, accuracy_score\n",
    "from sklearn import metrics\n",
    "labels_test = qsvc1.predict(sample_test)\n",
    "\n",
    "# Evalaute the test accuracy\n",
    "accuracy_test = metrics.balanced_accuracy_score(y_true=label_test, y_pred=labels_test)\n",
    "print(f\"accuracy test: {accuracy_test}\")"
   ]
  },
  {
   "cell_type": "code",
   "execution_count": 19,
   "metadata": {},
   "outputs": [
    {
     "name": "stdout",
     "output_type": "stream",
     "text": [
      "Precision =  0.9440072068431332\n",
      "Recall Score= 0.9433333333333334\n",
      "Accuracy= 0.9387676508344031\n",
      "F1 Score= 0.9435649026322602\n"
     ]
    }
   ],
   "source": [
    "from sklearn.metrics import precision_score,  recall_score, f1_score, accuracy_score\n",
    "print(\"Precision = \", metrics.precision_score(label_test, labels_test, average='weighted', zero_division=1))\n",
    "print(\"Recall Score=\", metrics.recall_score(label_test, labels_test, average='weighted'))\n",
    "print(\"Accuracy=\", metrics.balanced_accuracy_score(label_test, labels_test))\n",
    "print(\"F1 Score=\", metrics.f1_score(label_test, labels_test, average='weighted'))"
   ]
  },
  {
   "cell_type": "code",
   "execution_count": 20,
   "metadata": {
    "scrolled": true
   },
   "outputs": [
    {
     "data": {
      "image/png": "[encoded data removed]",
      "text/plain": [
       "<Figure size 432x288 with 2 Axes>"
      ]
     },
     "metadata": {
      "needs_background": "light"
     },
     "output_type": "display_data"
    }
   ],
   "source": [
    "from sklearn.metrics import ConfusionMatrixDisplay, confusion_matrix\n",
    "svc_cm_plot1 = ConfusionMatrixDisplay.from_estimator(qsvc1, sample_test, label_test);\n",
    "svc_cm_plot1.ax_.set_title(\"SVC confusion matrix plot\");"
   ]
  },
  {
   "cell_type": "code",
   "execution_count": 21,
   "metadata": {},
   "outputs": [
    {
     "data": {
      "text/plain": [
       "0.9387676508344031"
      ]
     },
     "execution_count": 21,
     "metadata": {},
     "output_type": "execute_result"
    }
   ],
   "source": [
    "from sklearn.metrics import roc_auc_score\n",
    "from sklearn import preprocessing\n",
    "\n",
    "lb = preprocessing.LabelBinarizer()\n",
    "lb.fit(label_test)\n",
    "y_test_1 = lb.transform(label_test)\n",
    "y_pred_1 = lb.transform(labels_test)\n",
    "\n",
    "roc_auc_score(y_test_1, y_pred_1,  multi_class=\"ovo\", average='macro')"
   ]
  },
  {
   "cell_type": "code",
   "execution_count": 22,
   "metadata": {},
   "outputs": [
    {
     "data": {
      "image/png": "[encoded data removed]",
      "text/plain": [
       "<Figure size 432x288 with 1 Axes>"
      ]
     },
     "metadata": {
      "needs_background": "light"
     },
     "output_type": "display_data"
    }
   ],
   "source": [
    "import numpy as np\n",
    "from scipy import interp\n",
    "import matplotlib.pyplot as plt\n",
    "from itertools import cycle\n",
    "from sklearn.metrics import roc_curve, auc\n",
    "\n",
    "# Plot linewidth.\n",
    "lw = 2\n",
    "n_classes = 1\n",
    "# Compute ROC curve and ROC area for each class\n",
    "fpr = dict()\n",
    "tpr = dict()\n",
    "roc_auc = dict()\n",
    "for i in range(n_classes):\n",
    "    fpr[i], tpr[i], _ = roc_curve(y_test_1[:, i], y_pred_1[:, i]) # Need to change\n",
    "    #print(fpr[i], tpr[i])\n",
    "    roc_auc[i] = auc(fpr[i], tpr[i])\n",
    "\n",
    "# Compute micro-average ROC curve and ROC area\n",
    "fpr[\"micro\"], tpr[\"micro\"], _ = roc_curve(y_test_1.ravel(), y_pred_1.ravel())# Need to change\n",
    "roc_auc[\"micro\"] = auc(fpr[\"micro\"], tpr[\"micro\"])\n",
    "\n",
    "# Compute macro-average ROC curve and ROC area\n",
    "\n",
    "# First aggregate all false positive rates\n",
    "all_fpr = np.unique(np.concatenate([fpr[i] for i in range(n_classes)]))\n",
    "\n",
    "# Then interpolate all ROC curves at this points\n",
    "mean_tpr = np.zeros_like(all_fpr)\n",
    "for i in range(n_classes):\n",
    "    mean_tpr += interp(all_fpr, fpr[i], tpr[i])\n",
    "\n",
    "# Finally average it and compute AUC\n",
    "mean_tpr /= n_classes\n",
    "\n",
    "fpr[\"macro\"] = all_fpr\n",
    "tpr[\"macro\"] = mean_tpr\n",
    "roc_auc[\"macro\"] = auc(fpr[\"macro\"], tpr[\"macro\"])\n",
    "\n",
    "# Plot all ROC curves\n",
    "plt.figure(1)\n",
    "plt.plot(fpr[\"micro\"], tpr[\"micro\"],\n",
    "         label='micro-average ROC curve (area = {0:0.2f})'\n",
    "               ''.format(roc_auc[\"micro\"]),\n",
    "         color='deeppink', linestyle=':', linewidth=4)\n",
    "\n",
    "plt.plot(fpr[\"macro\"], tpr[\"macro\"],\n",
    "         label='macro-average ROC curve (area = {0:0.2f})'\n",
    "               ''.format(roc_auc[\"macro\"]),\n",
    "         color='navy', linestyle=':', linewidth=4)\n",
    "\n",
    "colors = cycle(['aqua', 'darkorange', 'cornflowerblue'])\n",
    "for i, color in zip(range(n_classes), colors):\n",
    "    plt.plot(fpr[i], tpr[i], color=color, lw=lw,\n",
    "             label='ROC curve of class {0} (area = {1:0.2f})'''.format(i, roc_auc[i]))\n",
    "\n",
    "plt.plot([0, 1], [0, 1], 'k--', lw=lw)\n",
    "plt.xlim([-.1, 1.0])\n",
    "plt.ylim([0.0, 1.05])\n",
    "plt.xlabel('False Positive Rate')\n",
    "plt.ylabel('True Positive Rate')\n",
    "plt.title('ROC-AUC curve for SVM')\n",
    "plt.legend(loc=\"lower right\")\n",
    "plt.show()"
   ]
  },
  {
   "cell_type": "code",
   "execution_count": null,
   "metadata": {},
   "outputs": [],
   "source": []
  },
  {
   "cell_type": "code",
   "execution_count": null,
   "metadata": {},
   "outputs": [],
   "source": []
  }
 ],
 "metadata": {
  "kernelspec": {
   "display_name": "Python 3 (ipykernel)",
   "language": "python",
   "name": "python3"
  },
  "language_info": {
   "codemirror_mode": {
    "name": "ipython",
    "version": 3
   },
   "file_extension": ".py",
   "mimetype": "text/x-python",
   "name": "python",
   "nbconvert_exporter": "python",
   "pygments_lexer": "ipython3",
   "version": "3.9.12"
  }
 },
 "nbformat": 4,
 "nbformat_minor": 4
}
